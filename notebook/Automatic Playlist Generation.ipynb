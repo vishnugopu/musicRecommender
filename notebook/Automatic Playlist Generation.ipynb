{
 "cells": [
  {
   "cell_type": "markdown",
   "metadata": {},
   "source": [
    "## CS109A Introduction to Data Science: Final Project"
   ]
  },
  {
   "cell_type": "markdown",
   "metadata": {},
   "source": [
    "### Team"
   ]
  },
  {
   "cell_type": "markdown",
   "metadata": {},
   "source": [
    "<img style=\"float:left;\" src=\"images/team.png\"> \n",
    "</br>\n",
    "</br>"
   ]
  },
  {
   "cell_type": "markdown",
   "metadata": {},
   "source": [
    "<img style=\"float:left;\" src=\"images/spotify logo.png\"> \n",
    "\n",
    "\n"
   ]
  },
  {
   "cell_type": "markdown",
   "metadata": {},
   "source": [
    "### Motivation"
   ]
  },
  {
   "cell_type": "markdown",
   "metadata": {},
   "source": [
    "Today&apos;s world, most of the users listen to music online using several competing media services  like spotify, pandora, youtube, etc.. There is no dearth in choice of songs. However, listening to the same song repeatedly will create a stale experience. Acknowledging this fact, companies have been spending a lot of resources to enhancing users listening experience.  Users can extend their playlists, with recommended songs that they most likely matches their unique musical taste, introducing an element of novelty and excitement. This can increase user engagement and encourage continued subscription."
   ]
  },
  {
   "cell_type": "markdown",
   "metadata": {},
   "source": [
    "### Project Statement"
   ]
  },
  {
   "cell_type": "markdown",
   "metadata": {},
   "source": [
    "Building a music recommendation system is a common task that is faced by many companies including, Spotify. One of it&apos;s primary products is Playlists, collection of tracks that individual users (or Spotify) can build for every mood or event. The underlying goal of the recommendation system is to personalize content and identify relevant playlist/song recommendation for our audiences. \n",
    "There are mostly 3 types of music recommendation systems: content-based, collaborative and popularity. We here will be focusing on building content-based recommendation system.\n",
    "#### Goal:   Automatic Playlist Generation\n",
    "&nbsp;&nbsp;&nbsp;&nbsp;&nbsp;&nbsp;&nbsp;&nbsp;&nbsp;&nbsp;Create a model for song discovery on the basis of the base    playlist, user/context/song features information that might be important to quality of a playlist. &nbsp;&nbsp;&nbsp;&nbsp;&nbsp;&nbsp;&nbsp;&nbsp;&nbsp;&nbsp;Some of user/context information might include intent, emotion, location, playlist, purpose(driving/road trip, studying, etc). Use the developed model(s)\n",
    "&nbsp;&nbsp;&nbsp;&nbsp;&nbsp;&nbsp;&nbsp;&nbsp;&nbsp;&nbsp;for automatic playlist generation.\n"
   ]
  }
 ],
 "metadata": {
  "kernelspec": {
   "display_name": "Python 3",
   "language": "python",
   "name": "python3"
  },
  "language_info": {
   "codemirror_mode": {
    "name": "ipython",
    "version": 3
   },
   "file_extension": ".py",
   "mimetype": "text/x-python",
   "name": "python",
   "nbconvert_exporter": "python",
   "pygments_lexer": "ipython3",
   "version": "3.6.3"
  }
 },
 "nbformat": 4,
 "nbformat_minor": 2
}
